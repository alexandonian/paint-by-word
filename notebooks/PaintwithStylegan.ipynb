{
 "cells": [
  {
   "cell_type": "code",
   "execution_count": null,
   "id": "brown-december",
   "metadata": {},
   "outputs": [],
   "source": [
    "import os\n",
    "os.environ['CUDA_VISIBLE_DEVICES'] = '0'\n",
    "import matplotlib.pyplot as plt\n",
    "\n",
    "import torch\n",
    "from paintbyword import StyleganMaskedPainter\n",
    "from paintbyword.utils import show, pilim\n",
    "\n",
    "# Notebook magic\n",
    "%matplotlib inline\n",
    "%config InlineBackend.figure_format = 'retina'\n",
    "%load_ext autoreload\n",
    "%autoreload 2\n",
    "\n",
    "device = torch.device('cuda' if torch.cuda.is_available() else 'cpu')"
   ]
  },
  {
   "cell_type": "markdown",
   "id": "592a20fd",
   "metadata": {},
   "source": [
    "#### Instantiate a painter"
   ]
  },
  {
   "cell_type": "code",
   "execution_count": null,
   "id": "excessive-skill",
   "metadata": {},
   "outputs": [],
   "source": [
    "# Create instance of masked painter class\n",
    "painter = StyleganMaskedPainter(pretrained='bedroom')"
   ]
  },
  {
   "cell_type": "markdown",
   "id": "3077f6f0",
   "metadata": {},
   "source": [
    "#### Choose which seed image to edit"
   ]
  },
  {
   "cell_type": "code",
   "execution_count": null,
   "id": "dominican-tooth",
   "metadata": {
    "scrolled": false
   },
   "outputs": [],
   "source": [
    "# Display grid of seed images to choose from\n",
    "painter.show_seed_images(batch_size=32)"
   ]
  },
  {
   "cell_type": "markdown",
   "id": "a2da41b4",
   "metadata": {},
   "source": [
    "#### Mask the spatial locations you wish to edit\n",
    "\n",
    "Use the mouse to highlight the regions you wish to edit. The mask you produce here will be used during painting."
   ]
  },
  {
   "cell_type": "code",
   "execution_count": null,
   "id": "peaceful-soundtrack",
   "metadata": {},
   "outputs": [],
   "source": [
    "choice = 30  # Choose index of desired seed image.\n",
    "painter.mask_seed_image(choice)  # Scribble mask on seed image."
   ]
  },
  {
   "cell_type": "markdown",
   "id": "a6f7b7d3",
   "metadata": {},
   "source": [
    "#### Perform masked painting\n",
    "\n",
    "1. Provide the index choice from above.\n",
    "2. Provide the natural language description.\n",
    "3. Provide optimization method: `cma + adam` first performs CMA optimization followed by gradient optization using the Adam optimizer."
   ]
  },
  {
   "cell_type": "code",
   "execution_count": null,
   "id": "governmental-singing",
   "metadata": {},
   "outputs": [],
   "source": [
    "result = painter.paint(\n",
    "    choice,\n",
    "    description='A photo of a yellow bed',\n",
    "    optim_method='cma + adam'\n",
    ")"
   ]
  },
  {
   "cell_type": "markdown",
   "id": "1a8a93d3",
   "metadata": {},
   "source": [
    "### View output image"
   ]
  },
  {
   "cell_type": "code",
   "execution_count": null,
   "id": "regular-runner",
   "metadata": {},
   "outputs": [],
   "source": [
    "z, image, loss_history, im_history = result\n",
    "show(pilim(image[0]))"
   ]
  },
  {
   "cell_type": "markdown",
   "id": "a8978351",
   "metadata": {},
   "source": [
    "#### Plot the CLIP loss trajectory over the course of optimization."
   ]
  },
  {
   "cell_type": "code",
   "execution_count": null,
   "id": "ef8a6e51",
   "metadata": {},
   "outputs": [],
   "source": [
    "plt.plot(loss_history)\n",
    "plt.xlabel('Iteration')\n",
    "plt.ylabel('Loss')\n",
    "plt.title('Loss history')\n",
    "plt.show()"
   ]
  },
  {
   "cell_type": "markdown",
   "id": "147aa11a",
   "metadata": {},
   "source": [
    "#### Save the painting history to visualize the optimization process."
   ]
  },
  {
   "cell_type": "code",
   "execution_count": null,
   "id": "4b13487b",
   "metadata": {},
   "outputs": [],
   "source": [
    "# Save a video of the painting history\n",
    "import imageio\n",
    "video_out_name = 'paintbyword_maskedstylegan2_bedroom_video.mp4'\n",
    "out_images = [pilim(im) for im in im_history]\n",
    "imageio.mimsave(video_out_name, out_images, fps=2)\n",
    "\n",
    "# Show the video\n",
    "from IPython.display import Video\n",
    "Video(video_out_name, embed=True)"
   ]
  },
  {
   "cell_type": "code",
   "execution_count": null,
   "id": "1c82b88a",
   "metadata": {},
   "outputs": [],
   "source": []
  }
 ],
 "metadata": {
  "kernelspec": {
   "display_name": "Python 3 (ipykernel)",
   "language": "python",
   "name": "python3"
  },
  "language_info": {
   "codemirror_mode": {
    "name": "ipython",
    "version": 3
   },
   "file_extension": ".py",
   "mimetype": "text/x-python",
   "name": "python",
   "nbconvert_exporter": "python",
   "pygments_lexer": "ipython3",
   "version": "3.8.8"
  }
 },
 "nbformat": 4,
 "nbformat_minor": 5
}
